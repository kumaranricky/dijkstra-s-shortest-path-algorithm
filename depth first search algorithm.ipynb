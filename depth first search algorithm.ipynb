{
 "cells": [
  {
   "cell_type": "code",
   "execution_count": 1,
   "id": "b7a5522a",
   "metadata": {},
   "outputs": [],
   "source": [
    "%matplotlib inline\n",
    "import matplotlib.pyplot as plt\n",
    "import random\n",
    "import math\n",
    "import sys\n",
    "from collections import defaultdict, deque, Counter\n",
    "from itertools import combinations\n",
    "import heapq\n"
   ]
  },
  {
   "cell_type": "code",
   "execution_count": 2,
   "id": "758a0c88",
   "metadata": {},
   "outputs": [],
   "source": [
    "class Problem(object):\n",
    "    \"\"\"The abstract class for a formal problem. A new domain subclasses this,\n",
    "    overriding `actions` and `results`, and perhaps other methods.\n",
    "    The default heuristic is 0 and the default action cost is 1 for all states.\n",
    "    When yiou create an instance of a subclass, specify `initial`, and `goal` states \n",
    "    (or give an `is_goal` method) and perhaps other keyword args for the subclass.\"\"\"\n",
    "\n",
    "    def __init__(self, initial=None, goal=None, **kwds): \n",
    "        self.__dict__.update(initial=initial, goal=goal, **kwds) \n",
    "        \n",
    "    def actions(self, state):        \n",
    "        raise NotImplementedError\n",
    "    def result(self, state, action): \n",
    "        raise NotImplementedError\n",
    "    def is_goal(self, state):        \n",
    "        return state == self.goal\n",
    "    def action_cost(self, s, a, s1): \n",
    "        return 1\n",
    "    \n",
    "    def __str__(self):\n",
    "        return '{0}({1}, {2})'.format(\n",
    "            type(self).__name__, self.initial, self.goal)"
   ]
  },
  {
   "cell_type": "code",
   "execution_count": 3,
   "id": "98bad3ea",
   "metadata": {},
   "outputs": [],
   "source": [
    "class Node:\n",
    "    \"A Node in a search tree.\"\n",
    "    def __init__(self, state, parent=None, action=None, path_cost=0):\n",
    "        self.__dict__.update(state=state, parent=parent, action=action, path_cost=path_cost)\n",
    "\n",
    "    def __str__(self): \n",
    "        return '<{0}>'.format(self.state)\n",
    "    def __len__(self): \n",
    "        return 0 if self.parent is None else (1 + len(self.parent))\n",
    "    def __lt__(self, other): \n",
    "        return self.path_cost < other.path_cost"
   ]
  },
  {
   "cell_type": "code",
   "execution_count": 4,
   "id": "0644a8a5",
   "metadata": {},
   "outputs": [],
   "source": [
    "failure = Node('failure', path_cost=math.inf) # Indicates an algorithm couldn't find a solution.\n",
    "cutoff  = Node('cutoff',  path_cost=math.inf) # Indicates iterative deepening search was cut off."
   ]
  },
  {
   "cell_type": "code",
   "execution_count": 5,
   "id": "ad3ab22b",
   "metadata": {},
   "outputs": [],
   "source": [
    "def expand(problem, node):\n",
    "    \"Expand a node, generating the children nodes.\"\n",
    "    s = node.state\n",
    "    for action in problem.actions(s):\n",
    "        s1 = problem.result(s, action)\n",
    "        cost = node.path_cost + problem.action_cost(s, action, s1)\n",
    "        yield Node(s1, node, action, cost)\n",
    "        \n",
    "\n",
    "def path_actions(node):\n",
    "    \"The sequence of actions to get to this node.\"\n",
    "    if node.parent is None:\n",
    "        return []  \n",
    "    return path_actions(node.parent) + [node.action]\n",
    "\n",
    "\n",
    "def path_states(node):\n",
    "    \"The sequence of states to get to this node.\"\n",
    "    if node in (cutoff, failure, None): \n",
    "        return []\n",
    "    return path_states(node.parent) + [node.state]"
   ]
  },
  {
   "cell_type": "code",
   "execution_count": 6,
   "id": "e28f756a",
   "metadata": {},
   "outputs": [],
   "source": [
    "class PriorityQueue:\n",
    "    \"\"\"A queue in which the item with minimum f(item) is always popped first.\"\"\"\n",
    "\n",
    "    def __init__(self, items=(), key=lambda x: x): \n",
    "        self.key = key\n",
    "        self.items = [] # a heap of (score, item) pairs\n",
    "        for item in items:\n",
    "            self.add(item)\n",
    "         \n",
    "    def add(self, item):\n",
    "        \"\"\"Add item to the queuez.\"\"\"\n",
    "        pair = (self.key(item), item)\n",
    "        heapq.heappush(self.items, pair)\n",
    "\n",
    "    def pop(self):\n",
    "        \"\"\"Pop and return the item with min f(item) value.\"\"\"\n",
    "        return heapq.heappop(self.items)[1]\n",
    "    \n",
    "    def top(self): return self.items[0][1]\n",
    "\n",
    "    def __len__(self): return len(self.items)"
   ]
  },
  {
   "cell_type": "code",
   "execution_count": 9,
   "id": "c2a81f60",
   "metadata": {},
   "outputs": [],
   "source": [
    "def best_first_search(problem, f):\n",
    "    \"Search nodes with minimum f(node) value first.\"\n",
    "    node = Node(problem.initial)\n",
    "    frontier = PriorityQueue([node], key=f)\n",
    "    reached = {problem.initial: node}\n",
    "    while frontier:\n",
    "        node = frontier.pop()\n",
    "        if problem.is_goal(node.state):\n",
    "            return node\n",
    "        for child in expand(problem,node):\n",
    "            s = child.state\n",
    "            if s not in reached or child.path_cost < reached[s].path_cost:\n",
    "                reached[s] = child\n",
    "                frontier.add(child)\n",
    "    return failure\n",
    "\n",
    "def g(n): \n",
    "\n",
    "    return n.path_cost"
   ]
  },
  {
   "cell_type": "code",
   "execution_count": 13,
   "id": "a45c4579",
   "metadata": {},
   "outputs": [],
   "source": [
    "class RouteProblem(Problem):\n",
    "    \"\"\"A problem to find a route between locations on a `Map`.\n",
    "    Create a problem with RouteProblem(start, goal, map=Map(...)}).\n",
    "    States are the vertexes in the Map graph; actions are destination states.\"\"\"\n",
    "    \n",
    "    def actions(self, state): \n",
    "        \"\"\"The places neighboring `state`.\"\"\"\n",
    "        return self.map.neighbors[state]\n",
    "    \n",
    "    def result(self, state, action):\n",
    "        \"\"\"Go to the `action` place, if the map says that is possible.\"\"\"\n",
    "        return action if action in self.map.neighbors[state] else state\n",
    "    \n",
    "    def action_cost(self, s, action, s1):\n",
    "        \"\"\"The distance (cost) to go from s to s1.\"\"\"\n",
    "        return self.map.distances[s, s1]\n",
    "    \n",
    "    def h(self, node):\n",
    "        \"Straight-line distance between state and the goal.\"\n",
    "        locs = self.map.locations\n",
    "        return straight_line_distance(locs[node.state], locs[self.goal])"
   ]
  },
  {
   "cell_type": "code",
   "execution_count": 14,
   "id": "0e5bcfc2",
   "metadata": {},
   "outputs": [],
   "source": [
    "class Map:\n",
    "    \"\"\"A map of places in a 2D world: a graph with vertexes and links between them. \n",
    "    In `Map(links, locations)`, `links` can be either [(v1, v2)...] pairs, \n",
    "    or a {(v1, v2): distance...} dict. Optional `locations` can be {v1: (x, y)} \n",
    "    If `directed=False` then for every (v1, v2) link, we add a (v2, v1) link.\"\"\"\n",
    "\n",
    "    def __init__(self, links, locations=None, directed=False):\n",
    "        if not hasattr(links, 'items'): # Distances are 1 by default\n",
    "            links = {link: 1 for link in links}\n",
    "        if not directed:\n",
    "            for (v1, v2) in list(links):\n",
    "                links[v2, v1] = links[v1, v2]\n",
    "        self.distances = links\n",
    "        self.neighbors = multimap(links)\n",
    "        self.locations = locations or defaultdict(lambda: (0, 0))\n",
    "\n",
    "        \n",
    "def multimap(pairs) -> dict:\n",
    "    \"Given (key, val) pairs, make a dict of {key: [val,...]}.\"\n",
    "    result = defaultdict(list)\n",
    "    for key, val in pairs:\n",
    "        result[key].append(val)\n",
    "    return result"
   ]
  },
  {
   "cell_type": "code",
   "execution_count": 15,
   "id": "81ad7d27",
   "metadata": {},
   "outputs": [],
   "source": [
    "# Create your own map and define the nodes\n",
    "\n",
    "chennai_to_arakkonam = Map(\n",
    "    {('chennai', 'annanagar'):  8, ('annanagar', 'koyambedu'): 8, ('koyambedu', 'poonamalle'): 13, ('poonamalle', 'chettipedu'): 10, ('chettipedu', 'sengadu'): 4, ('sengadu', 'perambakkam'): 13,('perambakkam', 'thakkolam'): 13, ('thakkolam', 'arakkonam'):  12,\n",
    "     ('chennai', 'perambur'): 7, ('perambur', 'ambattur'): 15, ('ambattur', 'avadi'): 10, ('avadi', 'thiruvallur'): 13,('thiruvallur', 'thiruvalangadu'): 20,('thiruvalangadu', 'vyasapuaram'): 8,('vyasapuaram', 'arakkonam'): 9,\n",
    "     ('poonamalle', 'thirumalizai'): 5, ('thirumalizai', 'perumalpattu'):  10, ('perumalpattu', 'manavalanagar'): 14, ('manavalanagar', 'thiruvallur'): 3,\n",
    "    ('manavalanagar', 'manavur'): 42,('manavur', 'arakkonam'): 21,('manavalanagar', 'sengadu'): 26,\n",
    "    ('perumalpattu', 'nemam'): 7,('nemam', 'chettipedu'): 15,})\n",
    "\n",
    "\n",
    "\n"
   ]
  },
  {
   "cell_type": "code",
   "execution_count": 16,
   "id": "b21d0788",
   "metadata": {},
   "outputs": [
    {
     "name": "stdout",
     "output_type": "stream",
     "text": [
      "GoalStateWithPath:<arakkonam>\n",
      "['chennai', 'annanagar', 'koyambedu', 'poonamalle', 'chettipedu', 'sengadu', 'perambakkam', 'thakkolam', 'arakkonam']\n",
      "Total Distance=81 Kilometers\n"
     ]
    }
   ],
   "source": [
    "r0 = RouteProblem('chennai', 'arakkonam', map=chennai_to_arakkonam)\n",
    "goal_state_path=best_first_search(r0,g)\n",
    "path_states(goal_state_path)\n",
    "print(\"GoalStateWithPath:{0}\".format(goal_state_path))\n",
    "print(path_states(goal_state_path)) \n",
    "print(\"Total Distance={0} Kilometers\".format(goal_state_path.path_cost))"
   ]
  },
  {
   "cell_type": "code",
   "execution_count": 19,
   "id": "2da9da4d",
   "metadata": {},
   "outputs": [
    {
     "name": "stdout",
     "output_type": "stream",
     "text": [
      "GoalStateWithPath:<thiruvallur>\n",
      "['chennai', 'perambur', 'ambattur', 'avadi', 'thiruvallur']\n",
      "Total Distance=45 Kilometers\n"
     ]
    }
   ],
   "source": [
    "r1 = RouteProblem('chennai', 'thiruvallur', map=chennai_to_arakkonam)\n",
    "goal_state_path=best_first_search(r1,g)\n",
    "print(\"GoalStateWithPath:{0}\".format(goal_state_path))\n",
    "print(path_states(goal_state_path)) \n",
    "print(\"Total Distance={0} Kilometers\".format(goal_state_path.path_cost))"
   ]
  },
  {
   "cell_type": "code",
   "execution_count": 26,
   "id": "48ff776c",
   "metadata": {},
   "outputs": [
    {
     "name": "stdout",
     "output_type": "stream",
     "text": [
      "GoalStateWithPath:<annanagar>\n",
      "['manavur', 'manavalanagar', 'perumalpattu', 'thirumalizai', 'poonamalle', 'koyambedu', 'annanagar']\n",
      "Total Distance=92 Kilometers\n"
     ]
    }
   ],
   "source": [
    "r2 = RouteProblem('manavur', 'annanagar', map=chennai_to_arakkonam)\n",
    "goal_state_path=best_first_search(r2,g)\n",
    "print(\"GoalStateWithPath:{0}\".format(goal_state_path))\n",
    "print(path_states(goal_state_path)) \n",
    "print(\"Total Distance={0} Kilometers\".format(goal_state_path.path_cost))"
   ]
  },
  {
   "cell_type": "code",
   "execution_count": 23,
   "id": "9441bf0d",
   "metadata": {},
   "outputs": [
    {
     "name": "stdout",
     "output_type": "stream",
     "text": [
      "GoalStateWithPath:<ambattur>\n",
      "['arakkonam', 'vyasapuaram', 'thiruvalangadu', 'thiruvallur', 'avadi', 'ambattur']\n",
      "Total Distance=60 Kilometers\n"
     ]
    }
   ],
   "source": [
    "r3 = RouteProblem('arakkonam', 'ambattur', map=chennai_to_arakkonam)\n",
    "goal_state_path=best_first_search(r3,g)\n",
    "print(\"GoalStateWithPath:{0}\".format(goal_state_path))\n",
    "print(path_states(goal_state_path)) \n",
    "print(\"Total Distance={0} Kilometers\".format(goal_state_path.path_cost))"
   ]
  },
  {
   "cell_type": "code",
   "execution_count": 25,
   "id": "c95055da",
   "metadata": {},
   "outputs": [
    {
     "name": "stdout",
     "output_type": "stream",
     "text": [
      "GoalStateWithPath:<chettipedu>\n",
      "['thiruvalangadu', 'thiruvallur', 'manavalanagar', 'sengadu', 'chettipedu']\n",
      "Total Distance=53 Kilometers\n"
     ]
    }
   ],
   "source": [
    "r4 = RouteProblem('thiruvalangadu', 'chettipedu', map=chennai_to_arakkonam)\n",
    "goal_state_path=best_first_search(r4,g)\n",
    "print(\"GoalStateWithPath:{0}\".format(goal_state_path))\n",
    "print(path_states(goal_state_path)) \n",
    "print(\"Total Distance={0} Kilometers\".format(goal_state_path.path_cost))"
   ]
  },
  {
   "cell_type": "code",
   "execution_count": null,
   "id": "2c8fe8cc",
   "metadata": {},
   "outputs": [],
   "source": []
  }
 ],
 "metadata": {
  "kernelspec": {
   "display_name": "Python 3",
   "language": "python",
   "name": "python3"
  },
  "language_info": {
   "codemirror_mode": {
    "name": "ipython",
    "version": 3
   },
   "file_extension": ".py",
   "mimetype": "text/x-python",
   "name": "python",
   "nbconvert_exporter": "python",
   "pygments_lexer": "ipython3",
   "version": "3.8.8"
  }
 },
 "nbformat": 4,
 "nbformat_minor": 5
}
